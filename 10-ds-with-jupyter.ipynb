{
 "cells": [
  {
   "cell_type": "markdown",
   "metadata": {},
   "source": [
    "# An intro to using Python in Jupyter notebooks for data science\n",
    "## Common tasks and grammar of data manipulation"
   ]
  },
  {
   "cell_type": "markdown",
   "metadata": {},
   "source": [
    "## Overview\n",
    "\n",
    "**Overall purpose**: The purpose of these repository notebooks is to perform a classification task on the selected dataset to classify whether, according to some predictors, a person's income will exceed $50k.  The dataset includes several predictors, but the ones that we will use for classification are `hours-per-week` (how many hours are worked per week), `workclass` (broad category of the type of work performed by the person), and `age` (how old the person is, in years). \n",
    "\n",
    "**Notebook purpose**: This notebook will illustrate some data manipulation tasks, and show how the grammar of data manipulation \\[select, filter, mutate, summarise, arrange\\] is achieved through Pandas and Python.  Keep in mind that there are *many* ways to achieve a certain grammar operation, and the syntax in this notebook absolutely does not demonstrate the exhaustive set.  \n",
    "\n",
    "**Data**: In this notebook, we demonstrate a data science task on \"cleaned data\" using Pandas, a popular tool in Python for analyzing data.  Since the data we will use is rather small, it is included in the repository under the data folder.  The included dataset is a slightly modified version of the Census income dataset obtained from the [UC Irvine machine learning data repository](https://archive.ics.uci.edu/ml/datasets/adult).\n",
    "\n",
    "**Cleaning tasks**:  This dataset has leading spaces after the delimiter in the .CSV file, as well as some non-standard indications of missing values (`?`).  For simplication, all the rows with any NA are simply dropped.\n",
    "\n",
    "The cleaned data will be saved to the local data directory, and then used in the following notebook, which will show some common machine learning tasks using scikit-learn."
   ]
  },
  {
   "cell_type": "markdown",
   "metadata": {},
   "source": [
    "Similarly to R, we start our processing by importing the packages that we need.  We will use pandas for our processing, which provides functionality for manipulating tabular data and other data types."
   ]
  },
  {
   "cell_type": "code",
   "execution_count": null,
   "metadata": {},
   "outputs": [],
   "source": [
    "#import statements\n",
    "import pandas as pd"
   ]
  },
  {
   "cell_type": "code",
   "execution_count": null,
   "metadata": {},
   "outputs": [],
   "source": [
    "#magics\n",
    "%matplotlib inline"
   ]
  },
  {
   "cell_type": "markdown",
   "metadata": {},
   "source": [
    "## Loading and viewing the data"
   ]
  },
  {
   "cell_type": "code",
   "execution_count": null,
   "metadata": {},
   "outputs": [],
   "source": [
    "na_list = []\n",
    "na_list = ['?']"
   ]
  },
  {
   "cell_type": "code",
   "execution_count": null,
   "metadata": {},
   "outputs": [],
   "source": [
    "#Load data\n",
    "filename = 'data/adult_data.csv'\n",
    "df = pd.read_csv(filename, skipinitialspace=True, na_values=na_list)"
   ]
  },
  {
   "cell_type": "code",
   "execution_count": null,
   "metadata": {},
   "outputs": [],
   "source": [
    "# Get a preview of the data\n",
    "df.head()"
   ]
  },
  {
   "cell_type": "code",
   "execution_count": null,
   "metadata": {},
   "outputs": [],
   "source": [
    "df.info(null_counts=True) #But what does pandas consider to be null/na?"
   ]
  },
  {
   "cell_type": "code",
   "execution_count": null,
   "metadata": {},
   "outputs": [],
   "source": [
    "df.info(verbose=False)"
   ]
  },
  {
   "cell_type": "code",
   "execution_count": null,
   "metadata": {},
   "outputs": [],
   "source": [
    "df.describe()"
   ]
  },
  {
   "cell_type": "code",
   "execution_count": null,
   "metadata": {},
   "outputs": [],
   "source": [
    "#Count na values\n",
    "df.isnull().sum(skipna=False)"
   ]
  },
  {
   "cell_type": "code",
   "execution_count": null,
   "metadata": {},
   "outputs": [],
   "source": [
    "df.columns"
   ]
  },
  {
   "cell_type": "code",
   "execution_count": null,
   "metadata": {},
   "outputs": [],
   "source": [
    "# Look at the value counts for all of the columns: categorical histogram\n",
    "for x in df.columns:\n",
    "    if df[x].dtype=='object':\n",
    "        print('Col name: ', x, '\\n', df[x].value_counts(), '\\n')"
   ]
  },
  {
   "cell_type": "markdown",
   "metadata": {},
   "source": [
    "## Handling missing values"
   ]
  },
  {
   "cell_type": "code",
   "execution_count": null,
   "metadata": {},
   "outputs": [],
   "source": [
    "#Simplest approach if datset large enough: drop the missing values\n",
    "#Note: avoid performing operations on subsets of a data frame\n",
    "test = df.dropna(axis=0)\n",
    "print('# of rows of returned (test) data frame: ', len(test))\n",
    "print('# of rows of original (df) data frame: ', len(df))"
   ]
  },
  {
   "cell_type": "code",
   "execution_count": null,
   "metadata": {},
   "outputs": [],
   "source": [
    "df.dropna(axis=0, inplace=True)\n",
    "df.reset_index(inplace=True, drop=True)\n",
    "print('# of rows of original (df) data frame: ', len(df))"
   ]
  },
  {
   "cell_type": "code",
   "execution_count": null,
   "metadata": {},
   "outputs": [],
   "source": [
    "df.isnull().sum(skipna=False)"
   ]
  },
  {
   "cell_type": "code",
   "execution_count": null,
   "metadata": {},
   "outputs": [],
   "source": [
    "#Can write out data frames as well as read them!\n",
    "out_filename = 'data/adult_clean.csv'\n",
    "df.to_csv(out_filename, index=False)"
   ]
  },
  {
   "cell_type": "markdown",
   "metadata": {},
   "source": [
    "## Select: choose data from the dataframe"
   ]
  },
  {
   "cell_type": "code",
   "execution_count": null,
   "metadata": {},
   "outputs": [],
   "source": [
    "#Select certain columns by name and/or index\n",
    "#Note: avoid performing operations on subsets of a data frame\n",
    "occupation_info = df['occupation'] #shorthand\n",
    "occupation_info = df.loc[:, 'occupation'] #using loc operator\n",
    "occupation_info = df.loc[:, ['occupation', 'marital-status', 'relationship']] #select multiple columns using a list\n",
    "occupation_info = df.iloc[:, [5,6,7]] #select columns using their integer location"
   ]
  },
  {
   "cell_type": "code",
   "execution_count": null,
   "metadata": {},
   "outputs": [],
   "source": [
    "occupation_info.head()"
   ]
  },
  {
   "cell_type": "code",
   "execution_count": null,
   "metadata": {},
   "outputs": [],
   "source": [
    "#Select certain rows\n",
    "first_n_rows = df.loc[0:10, :] #select rows by index NAME\n",
    "first_n_rows = df.iloc[0:10, :] #select rows by integer location"
   ]
  },
  {
   "cell_type": "markdown",
   "metadata": {},
   "source": [
    "Try it yourself!  Fill in the code that would select the desired data for each comment."
   ]
  },
  {
   "cell_type": "code",
   "execution_count": null,
   "metadata": {},
   "outputs": [],
   "source": [
    "#Select the 'capital-gain' column  by name.  Can it you also do it using the index? (hint: iloc)"
   ]
  },
  {
   "cell_type": "code",
   "execution_count": null,
   "metadata": {},
   "outputs": [],
   "source": [
    "#Select the first 5 rows."
   ]
  },
  {
   "cell_type": "markdown",
   "metadata": {},
   "source": [
    "## Filter: choose rows of data based on some criteria"
   ]
  },
  {
   "cell_type": "code",
   "execution_count": null,
   "metadata": {},
   "outputs": [],
   "source": [
    "#Select columns according to some criteria\n",
    "nm_bools = df.loc[:, 'marital-status'] != 'Never-married'\n",
    "n_nm_df = df.loc[nm_bools, :]\n",
    "n_nm_df.head()"
   ]
  },
  {
   "cell_type": "code",
   "execution_count": null,
   "metadata": {},
   "outputs": [],
   "source": [
    "#Select and view data for the 'Private' workclass\n",
    "n_np_df = df.loc[ df.loc[:, 'workclass'] == 'Private']\n",
    "n_np_df.head()"
   ]
  },
  {
   "cell_type": "markdown",
   "metadata": {},
   "source": [
    "## Mutate: Perform operations on columns to create another"
   ]
  },
  {
   "cell_type": "code",
   "execution_count": null,
   "metadata": {},
   "outputs": [],
   "source": [
    "#Just selection and indexing to simply create another column in the df\n",
    "df.loc[:, 'age_adj'] = df.loc[:, 'age'] + 1\n",
    "#df['age_adj'] = df['age'] + 1\n",
    "df.head()"
   ]
  },
  {
   "cell_type": "code",
   "execution_count": null,
   "metadata": {},
   "outputs": [],
   "source": [
    "#Use assign for a more R-like feel; columns must have keyword syntax\n",
    "df = df.assign(signed_capital = df['capital-gain'] - df['capital-loss'])\n",
    "df.rename(columns={'signed_capital' : 'signed-capital'})\n",
    "df.head()"
   ]
  },
  {
   "cell_type": "code",
   "execution_count": null,
   "metadata": {},
   "outputs": [],
   "source": [
    "#Perform pipeline-like behavior using previous computations in the computation for future computations\n",
    "df = df.assign(hours_per_year = df['hours-per-week']*52,\n",
    "               hours_per_life = lambda y: y['hours_per_year'] * df['age'])\n",
    "df.rename(columns={ 'hours_per_year': 'hours-per-year',\n",
    "                   'hours_per_life': 'hours-per-life'}, inplace=True)"
   ]
  },
  {
   "cell_type": "code",
   "execution_count": null,
   "metadata": {},
   "outputs": [],
   "source": [
    "df.head()"
   ]
  },
  {
   "cell_type": "markdown",
   "metadata": {},
   "source": [
    "## Groupby and summarize: group items by some desired similarity"
   ]
  },
  {
   "cell_type": "code",
   "execution_count": null,
   "metadata": {},
   "outputs": [],
   "source": [
    "#Calculate mean capital-gain based on workclass\n",
    "workclass_count = df.groupby(['workclass']).count()\n",
    "workclass_count.head()"
   ]
  },
  {
   "cell_type": "code",
   "execution_count": null,
   "metadata": {},
   "outputs": [],
   "source": [
    "#Calculate mean capital-gain based on workclass and marital status\n",
    "work_rel_mean = df.groupby(['workclass', 'marital-status']).mean()\n",
    "work_rel_mean"
   ]
  },
  {
   "cell_type": "code",
   "execution_count": null,
   "metadata": {},
   "outputs": [],
   "source": [
    "df.describe()"
   ]
  },
  {
   "cell_type": "code",
   "execution_count": null,
   "metadata": {},
   "outputs": [],
   "source": [
    "df.sum(axis=0, numeric_only=True)"
   ]
  },
  {
   "cell_type": "markdown",
   "metadata": {},
   "source": [
    "## Arrange: change the ordering of the data"
   ]
  },
  {
   "cell_type": "code",
   "execution_count": null,
   "metadata": {},
   "outputs": [],
   "source": [
    "#Sort data according to age\n",
    "df.sort_values(by='age')"
   ]
  },
  {
   "cell_type": "code",
   "execution_count": null,
   "metadata": {},
   "outputs": [],
   "source": [
    "df.sort_values(by='age', ascending=False)"
   ]
  },
  {
   "cell_type": "code",
   "execution_count": null,
   "metadata": {},
   "outputs": [],
   "source": [
    "df.sort_values(by=['age', 'education-num'])"
   ]
  },
  {
   "cell_type": "code",
   "execution_count": null,
   "metadata": {},
   "outputs": [],
   "source": [
    "df.sort_values(by=['age', 'education-num'], ascending=[False, True])"
   ]
  },
  {
   "cell_type": "markdown",
   "metadata": {},
   "source": [
    "## Plotting examples"
   ]
  },
  {
   "cell_type": "code",
   "execution_count": null,
   "metadata": {},
   "outputs": [],
   "source": [
    "import matplotlib.pyplot as plt"
   ]
  },
  {
   "cell_type": "code",
   "execution_count": null,
   "metadata": {},
   "outputs": [],
   "source": [
    "??pd.Series.hist"
   ]
  },
  {
   "cell_type": "code",
   "execution_count": null,
   "metadata": {
    "scrolled": true
   },
   "outputs": [],
   "source": [
    "#You can plot directly using Pandas!  Pandas plots are based on the matplotlib library.\n",
    "df['education-num'].hist(bins=15);\n",
    "plt.title('Histogram of education-nums')\n",
    "plt.xlabel('Education-num')\n",
    "plt.ylabel('Frequency (counts)')"
   ]
  },
  {
   "cell_type": "code",
   "execution_count": null,
   "metadata": {},
   "outputs": [],
   "source": [
    "workclass_pie_info = df.groupby('workclass').count().mode(axis=1)\n",
    "\n",
    "plt.figure(figsize=(10,6))\n",
    "plt.pie(x=workclass_pie_info.iloc[:,0], labels = workclass_pie_info.index);"
   ]
  }
 ],
 "metadata": {
  "kernelspec": {
   "display_name": "Python 3",
   "language": "python",
   "name": "python3"
  },
  "language_info": {
   "codemirror_mode": {
    "name": "ipython",
    "version": 3
   },
   "file_extension": ".py",
   "mimetype": "text/x-python",
   "name": "python",
   "nbconvert_exporter": "python",
   "pygments_lexer": "ipython3",
   "version": "3.7.1"
  }
 },
 "nbformat": 4,
 "nbformat_minor": 2
}
