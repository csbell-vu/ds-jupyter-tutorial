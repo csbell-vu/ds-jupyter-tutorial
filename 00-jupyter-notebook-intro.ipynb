{
 "cells": [
  {
   "cell_type": "markdown",
   "metadata": {},
   "source": [
    "# Data science and Python in Juypter\n",
    "### A bootcamp tutorial on using Python in Jupyter notebooks for Data Science"
   ]
  },
  {
   "cell_type": "markdown",
   "metadata": {},
   "source": [
    "## Overview\n",
    "\n",
    "This notebook will introduce you to some of the most frequently used and helpful functionality of Jupyter notebooks.  In it, we will:\n",
    "* Examine the user interface (UI)\n",
    "* Investigate cell modality and commands for working with notebooks and individual cells\n",
    "* Discover some capabilities of Markdown"
   ]
  },
  {
   "cell_type": "markdown",
   "metadata": {},
   "source": [
    "## UI and Jupyter Functionality\n",
    "\n",
    "Important parts of Jupyter UI:\n",
    "* **Dashboard**: File navigation, creating and monitoring notebooks, open terminals\n",
    "* **Notebook**: Coding, editing, documenting, and running code/processes"
   ]
  },
  {
   "cell_type": "markdown",
   "metadata": {},
   "source": [
    "Jupyter notebooks are divided into functional blocks called **cells**.  The cell indicates a singular block to be executed.  The cells may exist in two modes:\n",
    "* **Edit mode**:  Indicated by a green box around the cell.  This means that the cell contents are available for editing.\n",
    "* **Command mode**:  Indicated by a blue box around the cell.  This means that keyboard commands can be used to modify behaviors of one or more cells.  This is when your shortcut keys come in very handy.\n",
    "\n",
    "My favorite shortcuts in command mode (press `esc` key to enter command mode):\n",
    "* `a` - insert cell above\n",
    "* `b` - insert cell below\n",
    "* `d`+`d` - delete cell\n",
    "* `m` - make cell a markdown cell\n",
    "* `y` - make cell a code cell\n",
    "* `[enter]` - enter edit mode\n",
    "* `h` - what are the keyboard shortcuts again?\n",
    "* `up arrow` and `down arrow` - navigate up and down cells\n",
    "* `shift` + \\[`up arrow` or `down arrow`\\] selects a number of cells (e.g., to apply the same operation to)\n",
    "\n",
    "My single favorite shortcut in edit mode is `shift + enter`.  This runs the current cell."
   ]
  },
  {
   "cell_type": "markdown",
   "metadata": {},
   "source": [
    "Cells may additionally exist as **code cells**, **markdown cells**, or **raw cells**.  Most of the cells in this document are markdown cells, which allow you to write formatted text for documentation and explanation.  The computation workhorse cells are the code cells.  These actually run Python code to perform calculations and execute code.  An example of a code block is below.  As you can see, it performs an operation, and below the cell, the results are displayed.  The next lesson will focus on code blocks.\n",
    "\n",
    "As with all blocks, set the block to edit mode and then press `shift`+`enter` to evaluate the contents."
   ]
  },
  {
   "cell_type": "code",
   "execution_count": null,
   "metadata": {},
   "outputs": [],
   "source": [
    "1+1"
   ]
  },
  {
   "cell_type": "markdown",
   "metadata": {},
   "source": [
    "## Markdown\n",
    "As you can see from the above cells, a lot of formatting is available in Jupyter notebooks, which you can see by entering edit mode (double click on cells or press enter if in command mode) in the cells above.  The most used functionality includes:\n",
    "* # Different levels of headings\n",
    "* ## Performed by following a number of hash symbols with a space\n",
    "* ### More hash symbols indicate a lower heading (e.g., this is heading 3)\n",
    "* bullets and numbering, performed by entering `*`, `-`, or a number and period (e.g., `1.`) followed by a space\n",
    "* **bold** and *italics*\n",
    "* External links, for example, to a [fantastic resource on Markdown formatting](https://help.github.com/en/articles/basic-writing-and-formatting-syntax)\n",
    "* `code`\n",
    "* > Block quotes"
   ]
  },
  {
   "cell_type": "markdown",
   "metadata": {},
   "source": [
    "## Test Yourself!\n",
    "1. Change this cell to markdown using the keyboard shortcuts only.\n",
    "2. Run this cell using the menubar or the toolbar.  Can you do it using the keyboard shortcut?\n",
    "3. I want to restart the kernel.  How can I use the menu bar to help me?\n",
    "4. I want to interrupt the kernel, but I do it so frequently that I want to use the keyboard shortcut.  How do I find the shortcut, and what is it?\n",
    "5. What icon (bonus points for what keyboard shortcut) can I use to save my notebook?\n",
    "6. Create a cell below, convert it to markdown, and write a bullet pointed list of 3 things you have learned in this bootcamp.  Use text emphasis (e.g., bold, italics) to really highlight what has meant a lot to you. "
   ]
  },
  {
   "cell_type": "markdown",
   "metadata": {},
   "source": [
    "## Next steps\n",
    "Review the keyboard shortcuts (I guarantee you they will come in handy!) and check out some resources on Markdown to help you document your modeling pipeline as clearly as possible.\n",
    "\n",
    "In the next notebook, we'll look at what it's like to perform a real data science task!"
   ]
  }
 ],
 "metadata": {
  "kernelspec": {
   "display_name": "Python 3",
   "language": "python",
   "name": "python3"
  },
  "language_info": {
   "codemirror_mode": {
    "name": "ipython",
    "version": 3
   },
   "file_extension": ".py",
   "mimetype": "text/x-python",
   "name": "python",
   "nbconvert_exporter": "python",
   "pygments_lexer": "ipython3",
   "version": "3.7.1"
  }
 },
 "nbformat": 4,
 "nbformat_minor": 2
}
